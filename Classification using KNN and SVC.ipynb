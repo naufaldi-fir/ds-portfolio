{
 "cells": [
  {
   "cell_type": "code",
   "execution_count": 9,
   "metadata": {},
   "outputs": [],
   "source": [
    "import pandas as pd\n",
    "import numpy as np"
   ]
  },
  {
   "cell_type": "code",
   "execution_count": 10,
   "metadata": {},
   "outputs": [],
   "source": [
    "# import train.csv\n",
    "url_train = \"https://raw.githubusercontent.com/naufaldi-fir/adoption-prediction-project/main/Data%20Set/train.csv\"\n",
    "train = pd.read_csv(url_train)"
   ]
  },
  {
   "cell_type": "code",
   "execution_count": 11,
   "metadata": {},
   "outputs": [
    {
     "name": "stdout",
     "output_type": "stream",
     "text": [
      "   Type         Name  Age  Breed1  Breed2  Gender  Color1  Color2  Color3  \\\n",
      "0     2       Nibble    3     299       0       1       1       7       0   \n",
      "1     2  No Name Yet    1     265       0       1       1       2       0   \n",
      "2     1       Brisco    1     307       0       1       2       7       0   \n",
      "3     1         Miko    4     307       0       2       1       2       0   \n",
      "4     1       Hunter    1     307       0       1       1       0       0   \n",
      "\n",
      "   MaturitySize  ...  Health  Quantity  Fee  State  \\\n",
      "0             1  ...       1         1  100  41326   \n",
      "1             2  ...       1         1    0  41401   \n",
      "2             2  ...       1         1    0  41326   \n",
      "3             2  ...       1         1  150  41401   \n",
      "4             2  ...       1         1    0  41326   \n",
      "\n",
      "                          RescuerID  VideoAmt  \\\n",
      "0  8480853f516546f6cf33aa88cd76c379         0   \n",
      "1  3082c7125d8fb66f7dd4bff4192c8b14         0   \n",
      "2  fa90fa5b1ee11c86938398b60abc32cb         0   \n",
      "3  9238e4f44c71a75282e62f7136c6b240         0   \n",
      "4  95481e953f8aed9ec3d16fc4509537e8         0   \n",
      "\n",
      "                                         Description      PetID PhotoAmt  \\\n",
      "0  Nibble is a 3+ month old ball of cuteness. He ...  86e1089a3      1.0   \n",
      "1  I just found it alone yesterday near my apartm...  6296e909a      2.0   \n",
      "2  Their pregnant mother was dumped by her irresp...  3422e4906      7.0   \n",
      "3  Good guard dog, very alert, active, obedience ...  5842f1ff5      8.0   \n",
      "4  This handsome yet cute boy is up for adoption....  850a43f90      3.0   \n",
      "\n",
      "   AdoptionSpeed  \n",
      "0              2  \n",
      "1              0  \n",
      "2              3  \n",
      "3              2  \n",
      "4              2  \n",
      "\n",
      "[5 rows x 24 columns]\n"
     ]
    }
   ],
   "source": [
    "print(train.head())"
   ]
  },
  {
   "cell_type": "markdown",
   "metadata": {},
   "source": [
    "### One hot encoding for color in train.csv"
   ]
  },
  {
   "cell_type": "code",
   "execution_count": 12,
   "metadata": {},
   "outputs": [
    {
     "data": {
      "text/html": [
       "<div>\n",
       "<style scoped>\n",
       "    .dataframe tbody tr th:only-of-type {\n",
       "        vertical-align: middle;\n",
       "    }\n",
       "\n",
       "    .dataframe tbody tr th {\n",
       "        vertical-align: top;\n",
       "    }\n",
       "\n",
       "    .dataframe thead th {\n",
       "        text-align: right;\n",
       "    }\n",
       "</style>\n",
       "<table border=\"1\" class=\"dataframe\">\n",
       "  <thead>\n",
       "    <tr style=\"text-align: right;\">\n",
       "      <th></th>\n",
       "      <th>Color1</th>\n",
       "      <th>Color2</th>\n",
       "      <th>Color3</th>\n",
       "    </tr>\n",
       "  </thead>\n",
       "  <tbody>\n",
       "    <tr>\n",
       "      <th>0</th>\n",
       "      <td>1</td>\n",
       "      <td>7</td>\n",
       "      <td>0</td>\n",
       "    </tr>\n",
       "    <tr>\n",
       "      <th>1</th>\n",
       "      <td>1</td>\n",
       "      <td>2</td>\n",
       "      <td>0</td>\n",
       "    </tr>\n",
       "    <tr>\n",
       "      <th>2</th>\n",
       "      <td>2</td>\n",
       "      <td>7</td>\n",
       "      <td>0</td>\n",
       "    </tr>\n",
       "    <tr>\n",
       "      <th>3</th>\n",
       "      <td>1</td>\n",
       "      <td>2</td>\n",
       "      <td>0</td>\n",
       "    </tr>\n",
       "    <tr>\n",
       "      <th>4</th>\n",
       "      <td>1</td>\n",
       "      <td>0</td>\n",
       "      <td>0</td>\n",
       "    </tr>\n",
       "  </tbody>\n",
       "</table>\n",
       "</div>"
      ],
      "text/plain": [
       "   Color1  Color2  Color3\n",
       "0       1       7       0\n",
       "1       1       2       0\n",
       "2       2       7       0\n",
       "3       1       2       0\n",
       "4       1       0       0"
      ]
     },
     "execution_count": 12,
     "metadata": {},
     "output_type": "execute_result"
    }
   ],
   "source": [
    "# drop all columns except color\n",
    "color = train.loc[:,[\"Color1\",\"Color2\",\"Color3\"]]\n",
    "color.head()"
   ]
  },
  {
   "cell_type": "code",
   "execution_count": 13,
   "metadata": {},
   "outputs": [],
   "source": [
    "# because it doesn't make a lot of sense to sort the color in Color 1,2 and 3. The table will be \n",
    "# transformed to binary data using one hot encoding\n",
    "dum_color1 = pd.get_dummies(color.Color1,prefix = \"ColorID\")\n",
    "dum_color2 = pd.get_dummies(color.Color2,prefix = \"ColorID\",drop_first = True)\n",
    "dum_color3 = pd.get_dummies(color.Color3,prefix = \"ColorID\",drop_first = True)"
   ]
  },
  {
   "cell_type": "code",
   "execution_count": 14,
   "metadata": {},
   "outputs": [],
   "source": [
    "all_color = [dum_color1,dum_color2,dum_color3]"
   ]
  },
  {
   "cell_type": "code",
   "execution_count": 15,
   "metadata": {},
   "outputs": [],
   "source": [
    "# define print color function\n",
    "def print_color(list):\n",
    "    i = 1\n",
    "    for x in list:\n",
    "        print(f\"Dummy Color {i}\")\n",
    "        print(x.head())\n",
    "        print(f\"Shape of the table {x.shape}\")\n",
    "        i = i + 1"
   ]
  },
  {
   "cell_type": "code",
   "execution_count": 16,
   "metadata": {},
   "outputs": [
    {
     "name": "stdout",
     "output_type": "stream",
     "text": [
      "Dummy Color 1\n",
      "   ColorID_1  ColorID_2  ColorID_3  ColorID_4  ColorID_5  ColorID_6  ColorID_7\n",
      "0          1          0          0          0          0          0          0\n",
      "1          1          0          0          0          0          0          0\n",
      "2          0          1          0          0          0          0          0\n",
      "3          1          0          0          0          0          0          0\n",
      "4          1          0          0          0          0          0          0\n",
      "Shape of the table (14993, 7)\n",
      "Dummy Color 2\n",
      "   ColorID_2  ColorID_3  ColorID_4  ColorID_5  ColorID_6  ColorID_7\n",
      "0          0          0          0          0          0          1\n",
      "1          1          0          0          0          0          0\n",
      "2          0          0          0          0          0          1\n",
      "3          1          0          0          0          0          0\n",
      "4          0          0          0          0          0          0\n",
      "Shape of the table (14993, 6)\n",
      "Dummy Color 3\n",
      "   ColorID_3  ColorID_4  ColorID_5  ColorID_6  ColorID_7\n",
      "0          0          0          0          0          0\n",
      "1          0          0          0          0          0\n",
      "2          0          0          0          0          0\n",
      "3          0          0          0          0          0\n",
      "4          0          0          0          0          0\n",
      "Shape of the table (14993, 5)\n"
     ]
    }
   ],
   "source": [
    "# print all color\n",
    "# print all one hot encoding from get_dummies function => \n",
    "# The dummies have different shape and attribute for each table\n",
    "print_color(all_color)"
   ]
  },
  {
   "cell_type": "markdown",
   "metadata": {},
   "source": [
    "The difference between dummy color 1 and dummy color 2 are in the existence of attribute ColorID_0 and ColorID_1"
   ]
  },
  {
   "cell_type": "code",
   "execution_count": 17,
   "metadata": {},
   "outputs": [
    {
     "name": "stdout",
     "output_type": "stream",
     "text": [
      "Dummy Color 1\n",
      "   ColorID_1  ColorID_2  ColorID_3  ColorID_4  ColorID_5  ColorID_6  ColorID_7\n",
      "0          1          0          0          0          0          0          0\n",
      "1          1          0          0          0          0          0          0\n",
      "2          0          1          0          0          0          0          0\n",
      "3          1          0          0          0          0          0          0\n",
      "4          1          0          0          0          0          0          0\n",
      "Shape of the table (14993, 7)\n",
      "Dummy Color 2\n",
      "   ColorID_2  ColorID_3  ColorID_4  ColorID_5  ColorID_6  ColorID_7  ColorID_1\n",
      "0          0          0          0          0          0          1          0\n",
      "1          1          0          0          0          0          0          0\n",
      "2          0          0          0          0          0          1          0\n",
      "3          1          0          0          0          0          0          0\n",
      "4          0          0          0          0          0          0          0\n",
      "Shape of the table (14993, 7)\n",
      "Dummy Color 3\n",
      "   ColorID_3  ColorID_4  ColorID_5  ColorID_6  ColorID_7  ColorID_2  ColorID_1\n",
      "0          0          0          0          0          0          0          0\n",
      "1          0          0          0          0          0          0          0\n",
      "2          0          0          0          0          0          0          0\n",
      "3          0          0          0          0          0          0          0\n",
      "4          0          0          0          0          0          0          0\n",
      "Shape of the table (14993, 7)\n"
     ]
    }
   ],
   "source": [
    "# changing the attribute and shape of the table so we can sum all the tables\n",
    "dum_color2[\"ColorID_1\"] = 0\n",
    "dum_color3[\"ColorID_2\"] = 0\n",
    "dum_color3[\"ColorID_1\"] = 0\n",
    "print_color(all_color)"
   ]
  },
  {
   "cell_type": "code",
   "execution_count": 18,
   "metadata": {},
   "outputs": [],
   "source": [
    "def change_color(list):\n",
    "    arrange_color = []\n",
    "    for i in range(1,8):\n",
    "        column_name = f\"ColorID_{i}\"\n",
    "        arrange_color.append(column_name)\n",
    "    for index,value in enumerate(list):\n",
    "        list[index] = value[arrange_color]"
   ]
  },
  {
   "cell_type": "code",
   "execution_count": 19,
   "metadata": {},
   "outputs": [
    {
     "name": "stdout",
     "output_type": "stream",
     "text": [
      "Dummy Color 1\n",
      "   ColorID_1  ColorID_2  ColorID_3  ColorID_4  ColorID_5  ColorID_6  ColorID_7\n",
      "0          1          0          0          0          0          0          0\n",
      "1          1          0          0          0          0          0          0\n",
      "2          0          1          0          0          0          0          0\n",
      "3          1          0          0          0          0          0          0\n",
      "4          1          0          0          0          0          0          0\n",
      "Shape of the table (14993, 7)\n",
      "Dummy Color 2\n",
      "   ColorID_1  ColorID_2  ColorID_3  ColorID_4  ColorID_5  ColorID_6  ColorID_7\n",
      "0          0          0          0          0          0          0          1\n",
      "1          0          1          0          0          0          0          0\n",
      "2          0          0          0          0          0          0          1\n",
      "3          0          1          0          0          0          0          0\n",
      "4          0          0          0          0          0          0          0\n",
      "Shape of the table (14993, 7)\n",
      "Dummy Color 3\n",
      "   ColorID_1  ColorID_2  ColorID_3  ColorID_4  ColorID_5  ColorID_6  ColorID_7\n",
      "0          0          0          0          0          0          0          0\n",
      "1          0          0          0          0          0          0          0\n",
      "2          0          0          0          0          0          0          0\n",
      "3          0          0          0          0          0          0          0\n",
      "4          0          0          0          0          0          0          0\n",
      "Shape of the table (14993, 7)\n"
     ]
    }
   ],
   "source": [
    "change_color(all_color)\n",
    "print_color(all_color)"
   ]
  },
  {
   "cell_type": "markdown",
   "metadata": {},
   "source": [
    "all dummies have now same attributes and shape"
   ]
  },
  {
   "cell_type": "code",
   "execution_count": 20,
   "metadata": {},
   "outputs": [
    {
     "data": {
      "text/html": [
       "<div>\n",
       "<style scoped>\n",
       "    .dataframe tbody tr th:only-of-type {\n",
       "        vertical-align: middle;\n",
       "    }\n",
       "\n",
       "    .dataframe tbody tr th {\n",
       "        vertical-align: top;\n",
       "    }\n",
       "\n",
       "    .dataframe thead th {\n",
       "        text-align: right;\n",
       "    }\n",
       "</style>\n",
       "<table border=\"1\" class=\"dataframe\">\n",
       "  <thead>\n",
       "    <tr style=\"text-align: right;\">\n",
       "      <th></th>\n",
       "      <th>ColorID_1</th>\n",
       "      <th>ColorID_2</th>\n",
       "      <th>ColorID_3</th>\n",
       "      <th>ColorID_4</th>\n",
       "      <th>ColorID_5</th>\n",
       "      <th>ColorID_6</th>\n",
       "      <th>ColorID_7</th>\n",
       "    </tr>\n",
       "  </thead>\n",
       "  <tbody>\n",
       "    <tr>\n",
       "      <th>0</th>\n",
       "      <td>1</td>\n",
       "      <td>0</td>\n",
       "      <td>0</td>\n",
       "      <td>0</td>\n",
       "      <td>0</td>\n",
       "      <td>0</td>\n",
       "      <td>1</td>\n",
       "    </tr>\n",
       "    <tr>\n",
       "      <th>1</th>\n",
       "      <td>1</td>\n",
       "      <td>1</td>\n",
       "      <td>0</td>\n",
       "      <td>0</td>\n",
       "      <td>0</td>\n",
       "      <td>0</td>\n",
       "      <td>0</td>\n",
       "    </tr>\n",
       "    <tr>\n",
       "      <th>2</th>\n",
       "      <td>0</td>\n",
       "      <td>1</td>\n",
       "      <td>0</td>\n",
       "      <td>0</td>\n",
       "      <td>0</td>\n",
       "      <td>0</td>\n",
       "      <td>1</td>\n",
       "    </tr>\n",
       "    <tr>\n",
       "      <th>3</th>\n",
       "      <td>1</td>\n",
       "      <td>1</td>\n",
       "      <td>0</td>\n",
       "      <td>0</td>\n",
       "      <td>0</td>\n",
       "      <td>0</td>\n",
       "      <td>0</td>\n",
       "    </tr>\n",
       "    <tr>\n",
       "      <th>4</th>\n",
       "      <td>1</td>\n",
       "      <td>0</td>\n",
       "      <td>0</td>\n",
       "      <td>0</td>\n",
       "      <td>0</td>\n",
       "      <td>0</td>\n",
       "      <td>0</td>\n",
       "    </tr>\n",
       "  </tbody>\n",
       "</table>\n",
       "</div>"
      ],
      "text/plain": [
       "   ColorID_1  ColorID_2  ColorID_3  ColorID_4  ColorID_5  ColorID_6  ColorID_7\n",
       "0          1          0          0          0          0          0          1\n",
       "1          1          1          0          0          0          0          0\n",
       "2          0          1          0          0          0          0          1\n",
       "3          1          1          0          0          0          0          0\n",
       "4          1          0          0          0          0          0          0"
      ]
     },
     "execution_count": 20,
     "metadata": {},
     "output_type": "execute_result"
    }
   ],
   "source": [
    "# adding all the data\n",
    "one_hot_color = dum_color1 + dum_color2 + dum_color3\n",
    "one_hot_color.head()"
   ]
  },
  {
   "cell_type": "code",
   "execution_count": 21,
   "metadata": {},
   "outputs": [
    {
     "data": {
      "text/html": [
       "<div>\n",
       "<style scoped>\n",
       "    .dataframe tbody tr th:only-of-type {\n",
       "        vertical-align: middle;\n",
       "    }\n",
       "\n",
       "    .dataframe tbody tr th {\n",
       "        vertical-align: top;\n",
       "    }\n",
       "\n",
       "    .dataframe thead th {\n",
       "        text-align: right;\n",
       "    }\n",
       "</style>\n",
       "<table border=\"1\" class=\"dataframe\">\n",
       "  <thead>\n",
       "    <tr style=\"text-align: right;\">\n",
       "      <th></th>\n",
       "      <th>Color1</th>\n",
       "      <th>Color2</th>\n",
       "      <th>Color3</th>\n",
       "      <th>ColorID_1</th>\n",
       "      <th>ColorID_2</th>\n",
       "      <th>ColorID_3</th>\n",
       "      <th>ColorID_4</th>\n",
       "      <th>ColorID_5</th>\n",
       "      <th>ColorID_6</th>\n",
       "      <th>ColorID_7</th>\n",
       "    </tr>\n",
       "  </thead>\n",
       "  <tbody>\n",
       "    <tr>\n",
       "      <th>30</th>\n",
       "      <td>2</td>\n",
       "      <td>7</td>\n",
       "      <td>0</td>\n",
       "      <td>0</td>\n",
       "      <td>1</td>\n",
       "      <td>0</td>\n",
       "      <td>0</td>\n",
       "      <td>0</td>\n",
       "      <td>0</td>\n",
       "      <td>1</td>\n",
       "    </tr>\n",
       "    <tr>\n",
       "      <th>31</th>\n",
       "      <td>1</td>\n",
       "      <td>0</td>\n",
       "      <td>0</td>\n",
       "      <td>1</td>\n",
       "      <td>0</td>\n",
       "      <td>0</td>\n",
       "      <td>0</td>\n",
       "      <td>0</td>\n",
       "      <td>0</td>\n",
       "      <td>0</td>\n",
       "    </tr>\n",
       "    <tr>\n",
       "      <th>32</th>\n",
       "      <td>5</td>\n",
       "      <td>7</td>\n",
       "      <td>0</td>\n",
       "      <td>0</td>\n",
       "      <td>0</td>\n",
       "      <td>0</td>\n",
       "      <td>0</td>\n",
       "      <td>1</td>\n",
       "      <td>0</td>\n",
       "      <td>1</td>\n",
       "    </tr>\n",
       "    <tr>\n",
       "      <th>33</th>\n",
       "      <td>1</td>\n",
       "      <td>6</td>\n",
       "      <td>7</td>\n",
       "      <td>1</td>\n",
       "      <td>0</td>\n",
       "      <td>0</td>\n",
       "      <td>0</td>\n",
       "      <td>0</td>\n",
       "      <td>1</td>\n",
       "      <td>1</td>\n",
       "    </tr>\n",
       "    <tr>\n",
       "      <th>34</th>\n",
       "      <td>1</td>\n",
       "      <td>7</td>\n",
       "      <td>0</td>\n",
       "      <td>1</td>\n",
       "      <td>0</td>\n",
       "      <td>0</td>\n",
       "      <td>0</td>\n",
       "      <td>0</td>\n",
       "      <td>0</td>\n",
       "      <td>1</td>\n",
       "    </tr>\n",
       "    <tr>\n",
       "      <th>35</th>\n",
       "      <td>6</td>\n",
       "      <td>0</td>\n",
       "      <td>0</td>\n",
       "      <td>0</td>\n",
       "      <td>0</td>\n",
       "      <td>0</td>\n",
       "      <td>0</td>\n",
       "      <td>0</td>\n",
       "      <td>1</td>\n",
       "      <td>0</td>\n",
       "    </tr>\n",
       "    <tr>\n",
       "      <th>36</th>\n",
       "      <td>1</td>\n",
       "      <td>4</td>\n",
       "      <td>0</td>\n",
       "      <td>1</td>\n",
       "      <td>0</td>\n",
       "      <td>0</td>\n",
       "      <td>1</td>\n",
       "      <td>0</td>\n",
       "      <td>0</td>\n",
       "      <td>0</td>\n",
       "    </tr>\n",
       "    <tr>\n",
       "      <th>37</th>\n",
       "      <td>2</td>\n",
       "      <td>0</td>\n",
       "      <td>0</td>\n",
       "      <td>0</td>\n",
       "      <td>1</td>\n",
       "      <td>0</td>\n",
       "      <td>0</td>\n",
       "      <td>0</td>\n",
       "      <td>0</td>\n",
       "      <td>0</td>\n",
       "    </tr>\n",
       "    <tr>\n",
       "      <th>38</th>\n",
       "      <td>1</td>\n",
       "      <td>0</td>\n",
       "      <td>0</td>\n",
       "      <td>1</td>\n",
       "      <td>0</td>\n",
       "      <td>0</td>\n",
       "      <td>0</td>\n",
       "      <td>0</td>\n",
       "      <td>0</td>\n",
       "      <td>0</td>\n",
       "    </tr>\n",
       "    <tr>\n",
       "      <th>39</th>\n",
       "      <td>5</td>\n",
       "      <td>0</td>\n",
       "      <td>0</td>\n",
       "      <td>0</td>\n",
       "      <td>0</td>\n",
       "      <td>0</td>\n",
       "      <td>0</td>\n",
       "      <td>1</td>\n",
       "      <td>0</td>\n",
       "      <td>0</td>\n",
       "    </tr>\n",
       "  </tbody>\n",
       "</table>\n",
       "</div>"
      ],
      "text/plain": [
       "    Color1  Color2  Color3  ColorID_1  ColorID_2  ColorID_3  ColorID_4  \\\n",
       "30       2       7       0          0          1          0          0   \n",
       "31       1       0       0          1          0          0          0   \n",
       "32       5       7       0          0          0          0          0   \n",
       "33       1       6       7          1          0          0          0   \n",
       "34       1       7       0          1          0          0          0   \n",
       "35       6       0       0          0          0          0          0   \n",
       "36       1       4       0          1          0          0          1   \n",
       "37       2       0       0          0          1          0          0   \n",
       "38       1       0       0          1          0          0          0   \n",
       "39       5       0       0          0          0          0          0   \n",
       "\n",
       "    ColorID_5  ColorID_6  ColorID_7  \n",
       "30          0          0          1  \n",
       "31          0          0          0  \n",
       "32          1          0          1  \n",
       "33          0          1          1  \n",
       "34          0          0          1  \n",
       "35          0          1          0  \n",
       "36          0          0          0  \n",
       "37          0          0          0  \n",
       "38          0          0          0  \n",
       "39          1          0          0  "
      ]
     },
     "execution_count": 21,
     "metadata": {},
     "output_type": "execute_result"
    }
   ],
   "source": [
    "# check one hot encoding with train data\n",
    "pd.concat([color, one_hot_color],axis = 1).iloc[30:40]"
   ]
  },
  {
   "cell_type": "markdown",
   "metadata": {},
   "source": [
    " one hot encoding success"
   ]
  },
  {
   "cell_type": "code",
   "execution_count": 22,
   "metadata": {},
   "outputs": [
    {
     "name": "stdout",
     "output_type": "stream",
     "text": [
      "     a    b\n",
      "0  201  105\n"
     ]
    }
   ],
   "source": [
    "df_1= pd.DataFrame({\"a\": [1],\"b\":[5]})\n",
    "df_2 = pd.DataFrame({\"b\": [100],\"a\":[200]})\n",
    "df = df_1 + df_2\n",
    "print(df)"
   ]
  },
  {
   "cell_type": "markdown",
   "metadata": {},
   "source": [
    "Proof that pandas can add value of column automatically through columns name without arranging order of columns"
   ]
  },
  {
   "cell_type": "markdown",
   "metadata": {},
   "source": [
    "# Using Classification model KNN on color"
   ]
  },
  {
   "cell_type": "markdown",
   "metadata": {},
   "source": [
    "## A. Preparing data"
   ]
  },
  {
   "cell_type": "markdown",
   "metadata": {},
   "source": [
    "### Data Train\n",
    "Divide the train data in train and test"
   ]
  },
  {
   "cell_type": "code",
   "execution_count": 23,
   "metadata": {},
   "outputs": [
    {
     "data": {
      "text/plain": [
       "0    2\n",
       "1    0\n",
       "2    3\n",
       "3    2\n",
       "4    2\n",
       "Name: AdoptionSpeed, dtype: int64"
      ]
     },
     "execution_count": 23,
     "metadata": {},
     "output_type": "execute_result"
    }
   ],
   "source": [
    "# X is predictor data and y is target variable\n",
    "X = one_hot_color\n",
    "y = train[\"AdoptionSpeed\"]\n",
    "y.head()"
   ]
  },
  {
   "cell_type": "code",
   "execution_count": 24,
   "metadata": {},
   "outputs": [],
   "source": [
    "from sklearn.model_selection import train_test_split\n",
    "X_train, X_test, y_train, y_test = train_test_split(X,y,test_size = 0.3, stratify =y)"
   ]
  },
  {
   "cell_type": "markdown",
   "metadata": {},
   "source": [
    "### Data Test\n",
    "import test data, do one hot encoding one more time for test data"
   ]
  },
  {
   "cell_type": "code",
   "execution_count": 25,
   "metadata": {},
   "outputs": [
    {
     "name": "stdout",
     "output_type": "stream",
     "text": [
      "   Type                       Name  Age  Breed1  Breed2  Gender  Color1  \\\n",
      "0     2               Dopey & Grey    8     266     266       1       2   \n",
      "1     2                    Chi Chi   36     285     264       2       1   \n",
      "2     2                     Sticky    2     265       0       1       6   \n",
      "3     1  Dannie & Kass [In Penang]   12     307       0       2       2   \n",
      "4     2                    Cuddles   12     265       0       1       2   \n",
      "\n",
      "   Color2  Color3  MaturitySize  ...  Sterilized  Health  Quantity  Fee  \\\n",
      "0       6       7             1  ...           2       1         2    0   \n",
      "1       4       7             2  ...           1       2         1    0   \n",
      "2       7       0             2  ...           2       1         1  200   \n",
      "3       5       0             2  ...           1       1         2    0   \n",
      "4       3       7             2  ...           1       1         1    0   \n",
      "\n",
      "   State                         RescuerID  VideoAmt  \\\n",
      "0  41326  2ece3b2573dcdcebd774e635dca15fd9         0   \n",
      "1  41326  2ece3b2573dcdcebd774e635dca15fd9         0   \n",
      "2  41326  e59c106e9912fa30c898976278c2e834         0   \n",
      "3  41326  e59c106e9912fa30c898976278c2e834         0   \n",
      "4  41326  e59c106e9912fa30c898976278c2e834         0   \n",
      "\n",
      "                                         Description      PetID  PhotoAmt  \n",
      "0  Dopey Age: 8mths old Male One half of a pair, ...  e2dfc2935       2.0  \n",
      "1  Please note that Chichi has been neutered, the...  f153b465f       1.0  \n",
      "2  Sticky, named such because of his tendency to ...  3c90f3f54       4.0  \n",
      "3  Dannie and Kass are mother and daughter. We en...  e02abc8a3       5.0  \n",
      "4  Extremely cuddly cat, hence the origin of his ...  09f0df7d1       5.0  \n",
      "\n",
      "[5 rows x 23 columns]\n"
     ]
    }
   ],
   "source": [
    "# import test.csv\n",
    "url_test = \"https://raw.githubusercontent.com/naufaldi-fir/adoption-prediction-project/main/Data%20Set/test.csv\"\n",
    "new_test = pd.read_csv(url_test)\n",
    "print(new_test.head())\n",
    "#print(new_test.info())"
   ]
  },
  {
   "cell_type": "code",
   "execution_count": 26,
   "metadata": {},
   "outputs": [
    {
     "data": {
      "text/html": [
       "<div>\n",
       "<style scoped>\n",
       "    .dataframe tbody tr th:only-of-type {\n",
       "        vertical-align: middle;\n",
       "    }\n",
       "\n",
       "    .dataframe tbody tr th {\n",
       "        vertical-align: top;\n",
       "    }\n",
       "\n",
       "    .dataframe thead th {\n",
       "        text-align: right;\n",
       "    }\n",
       "</style>\n",
       "<table border=\"1\" class=\"dataframe\">\n",
       "  <thead>\n",
       "    <tr style=\"text-align: right;\">\n",
       "      <th></th>\n",
       "      <th>Color1</th>\n",
       "      <th>Color2</th>\n",
       "      <th>Color3</th>\n",
       "    </tr>\n",
       "  </thead>\n",
       "  <tbody>\n",
       "    <tr>\n",
       "      <th>0</th>\n",
       "      <td>2</td>\n",
       "      <td>6</td>\n",
       "      <td>7</td>\n",
       "    </tr>\n",
       "    <tr>\n",
       "      <th>1</th>\n",
       "      <td>1</td>\n",
       "      <td>4</td>\n",
       "      <td>7</td>\n",
       "    </tr>\n",
       "    <tr>\n",
       "      <th>2</th>\n",
       "      <td>6</td>\n",
       "      <td>7</td>\n",
       "      <td>0</td>\n",
       "    </tr>\n",
       "    <tr>\n",
       "      <th>3</th>\n",
       "      <td>2</td>\n",
       "      <td>5</td>\n",
       "      <td>0</td>\n",
       "    </tr>\n",
       "    <tr>\n",
       "      <th>4</th>\n",
       "      <td>2</td>\n",
       "      <td>3</td>\n",
       "      <td>7</td>\n",
       "    </tr>\n",
       "  </tbody>\n",
       "</table>\n",
       "</div>"
      ],
      "text/plain": [
       "   Color1  Color2  Color3\n",
       "0       2       6       7\n",
       "1       1       4       7\n",
       "2       6       7       0\n",
       "3       2       5       0\n",
       "4       2       3       7"
      ]
     },
     "execution_count": 26,
     "metadata": {},
     "output_type": "execute_result"
    }
   ],
   "source": [
    "color_test = new_test.loc[:,[\"Color1\",\"Color2\",\"Color3\"]]\n",
    "color_test.head()"
   ]
  },
  {
   "cell_type": "code",
   "execution_count": 27,
   "metadata": {},
   "outputs": [
    {
     "name": "stdout",
     "output_type": "stream",
     "text": [
      "Dummy Color 1\n",
      "   ColorID_1  ColorID_2  ColorID_3  ColorID_4  ColorID_5  ColorID_6  ColorID_7\n",
      "0          0          1          0          0          0          0          0\n",
      "1          1          0          0          0          0          0          0\n",
      "2          0          0          0          0          0          1          0\n",
      "3          0          1          0          0          0          0          0\n",
      "4          0          1          0          0          0          0          0\n",
      "Shape of the table (3972, 7)\n",
      "Dummy Color 2\n",
      "   ColorID_2  ColorID_3  ColorID_4  ColorID_5  ColorID_6  ColorID_7\n",
      "0          0          0          0          0          1          0\n",
      "1          0          0          1          0          0          0\n",
      "2          0          0          0          0          0          1\n",
      "3          0          0          0          1          0          0\n",
      "4          0          1          0          0          0          0\n",
      "Shape of the table (3972, 6)\n",
      "Dummy Color 3\n",
      "   ColorID_3  ColorID_4  ColorID_5  ColorID_6  ColorID_7\n",
      "0          0          0          0          0          1\n",
      "1          0          0          0          0          1\n",
      "2          0          0          0          0          0\n",
      "3          0          0          0          0          0\n",
      "4          0          0          0          0          1\n",
      "Shape of the table (3972, 5)\n"
     ]
    }
   ],
   "source": [
    "# because it doesn't make a lot of sense to sort the color in Color 1,2 and 3. The table will be \n",
    "# transformed to binary data using one hot encoding\n",
    "dum_color1 = pd.get_dummies(color_test.Color1,prefix = \"ColorID\")\n",
    "dum_color2 = pd.get_dummies(color_test.Color2,prefix = \"ColorID\",drop_first = True) #first column is ColorID_0\n",
    "dum_color3 = pd.get_dummies(color_test.Color3,prefix = \"ColorID\",drop_first = True) #first column is ColorID_0\n",
    "all_color = [dum_color1,dum_color2,dum_color3]\n",
    "print_color(all_color)"
   ]
  },
  {
   "cell_type": "code",
   "execution_count": 28,
   "metadata": {},
   "outputs": [
    {
     "name": "stdout",
     "output_type": "stream",
     "text": [
      "Dummy Color 1\n",
      "   ColorID_1  ColorID_2  ColorID_3  ColorID_4  ColorID_5  ColorID_6  ColorID_7\n",
      "0          0          1          0          0          0          0          0\n",
      "1          1          0          0          0          0          0          0\n",
      "2          0          0          0          0          0          1          0\n",
      "3          0          1          0          0          0          0          0\n",
      "4          0          1          0          0          0          0          0\n",
      "Shape of the table (3972, 7)\n",
      "Dummy Color 2\n",
      "   ColorID_1  ColorID_2  ColorID_3  ColorID_4  ColorID_5  ColorID_6  ColorID_7\n",
      "0          0          0          0          0          0          1          0\n",
      "1          0          0          0          1          0          0          0\n",
      "2          0          0          0          0          0          0          1\n",
      "3          0          0          0          0          1          0          0\n",
      "4          0          0          1          0          0          0          0\n",
      "Shape of the table (3972, 7)\n",
      "Dummy Color 3\n",
      "   ColorID_1  ColorID_2  ColorID_3  ColorID_4  ColorID_5  ColorID_6  ColorID_7\n",
      "0          0          0          0          0          0          0          1\n",
      "1          0          0          0          0          0          0          1\n",
      "2          0          0          0          0          0          0          0\n",
      "3          0          0          0          0          0          0          0\n",
      "4          0          0          0          0          0          0          1\n",
      "Shape of the table (3972, 7)\n"
     ]
    }
   ],
   "source": [
    "# changing the attribute and shape of the table so we can sum all the tables\n",
    "dum_color2[\"ColorID_1\"] = 0 # Add ColorID_1 columns to table 2 with value 0\n",
    "dum_color3[\"ColorID_2\"] = 0\n",
    "dum_color3[\"ColorID_1\"] = 0\n",
    "change_color(all_color)\n",
    "print_color(all_color)"
   ]
  },
  {
   "cell_type": "code",
   "execution_count": 29,
   "metadata": {},
   "outputs": [
    {
     "data": {
      "text/html": [
       "<div>\n",
       "<style scoped>\n",
       "    .dataframe tbody tr th:only-of-type {\n",
       "        vertical-align: middle;\n",
       "    }\n",
       "\n",
       "    .dataframe tbody tr th {\n",
       "        vertical-align: top;\n",
       "    }\n",
       "\n",
       "    .dataframe thead th {\n",
       "        text-align: right;\n",
       "    }\n",
       "</style>\n",
       "<table border=\"1\" class=\"dataframe\">\n",
       "  <thead>\n",
       "    <tr style=\"text-align: right;\">\n",
       "      <th></th>\n",
       "      <th>ColorID_1</th>\n",
       "      <th>ColorID_2</th>\n",
       "      <th>ColorID_3</th>\n",
       "      <th>ColorID_4</th>\n",
       "      <th>ColorID_5</th>\n",
       "      <th>ColorID_6</th>\n",
       "      <th>ColorID_7</th>\n",
       "    </tr>\n",
       "  </thead>\n",
       "  <tbody>\n",
       "    <tr>\n",
       "      <th>0</th>\n",
       "      <td>0</td>\n",
       "      <td>1</td>\n",
       "      <td>0</td>\n",
       "      <td>0</td>\n",
       "      <td>0</td>\n",
       "      <td>1</td>\n",
       "      <td>1</td>\n",
       "    </tr>\n",
       "    <tr>\n",
       "      <th>1</th>\n",
       "      <td>1</td>\n",
       "      <td>0</td>\n",
       "      <td>0</td>\n",
       "      <td>1</td>\n",
       "      <td>0</td>\n",
       "      <td>0</td>\n",
       "      <td>1</td>\n",
       "    </tr>\n",
       "    <tr>\n",
       "      <th>2</th>\n",
       "      <td>0</td>\n",
       "      <td>0</td>\n",
       "      <td>0</td>\n",
       "      <td>0</td>\n",
       "      <td>0</td>\n",
       "      <td>1</td>\n",
       "      <td>1</td>\n",
       "    </tr>\n",
       "    <tr>\n",
       "      <th>3</th>\n",
       "      <td>0</td>\n",
       "      <td>1</td>\n",
       "      <td>0</td>\n",
       "      <td>0</td>\n",
       "      <td>1</td>\n",
       "      <td>0</td>\n",
       "      <td>0</td>\n",
       "    </tr>\n",
       "    <tr>\n",
       "      <th>4</th>\n",
       "      <td>0</td>\n",
       "      <td>1</td>\n",
       "      <td>1</td>\n",
       "      <td>0</td>\n",
       "      <td>0</td>\n",
       "      <td>0</td>\n",
       "      <td>1</td>\n",
       "    </tr>\n",
       "  </tbody>\n",
       "</table>\n",
       "</div>"
      ],
      "text/plain": [
       "   ColorID_1  ColorID_2  ColorID_3  ColorID_4  ColorID_5  ColorID_6  ColorID_7\n",
       "0          0          1          0          0          0          1          1\n",
       "1          1          0          0          1          0          0          1\n",
       "2          0          0          0          0          0          1          1\n",
       "3          0          1          0          0          1          0          0\n",
       "4          0          1          1          0          0          0          1"
      ]
     },
     "execution_count": 29,
     "metadata": {},
     "output_type": "execute_result"
    }
   ],
   "source": [
    "one_hot_color = dum_color1 + dum_color2 + dum_color3\n",
    "one_hot_color.head()"
   ]
  },
  {
   "cell_type": "code",
   "execution_count": 30,
   "metadata": {},
   "outputs": [],
   "source": [
    "#for predicting new test data\n",
    "X_new = one_hot_color"
   ]
  },
  {
   "cell_type": "markdown",
   "metadata": {},
   "source": [
    "## B. KNN and SVC Implementation\n",
    "### 1. KNN"
   ]
  },
  {
   "cell_type": "code",
   "execution_count": 31,
   "metadata": {},
   "outputs": [],
   "source": [
    "import numpy as np\n",
    "from sklearn.neighbors import KNeighborsClassifier\n",
    "from sklearn.model_selection import GridSearchCV"
   ]
  },
  {
   "cell_type": "code",
   "execution_count": 32,
   "metadata": {},
   "outputs": [
    {
     "name": "stdout",
     "output_type": "stream",
     "text": [
      "best parameter:{'n_neighbors': 47}\n",
      "best score:0.2746069556931872\n"
     ]
    }
   ],
   "source": [
    "param_grid = {\"n_neighbors\":np.arange(1,50)}\n",
    "knn = KNeighborsClassifier()\n",
    "knn_cv = GridSearchCV(knn, param_grid, cv = 5)\n",
    "knn_cv.fit(X_train, y_train)\n",
    "print(f\"best parameter:{knn_cv.best_params_}\")\n",
    "print(f\"best score:{knn_cv.best_score_}\")      "
   ]
  },
  {
   "cell_type": "markdown",
   "metadata": {},
   "source": [
    "The score is the mean of cv-score for n_neighbors = 47"
   ]
  },
  {
   "cell_type": "markdown",
   "metadata": {},
   "source": [
    "### 2. SVC "
   ]
  },
  {
   "cell_type": "code",
   "execution_count": 38,
   "metadata": {},
   "outputs": [
    {
     "name": "stdout",
     "output_type": "stream",
     "text": [
      "Average 5-Fold CV Score: 0.2838666035220546\n"
     ]
    }
   ],
   "source": [
    "from sklearn.svm import SVC\n",
    "from sklearn.model_selection import cross_val_score\n",
    "svc = SVC()\n",
    "cv_results = cross_val_score(svc,X,y,cv = 5)\n",
    "print(\"Average 5-Fold CV Score: {}\".format(np.mean(cv_results)))"
   ]
  },
  {
   "cell_type": "markdown",
   "metadata": {},
   "source": [
    "## Conclusion\n",
    "SVC is better to predict data than knn, but both model still are'nt good model to predict adoption speed because the score are too low."
   ]
  }
 ],
 "metadata": {
  "kernelspec": {
   "display_name": "Python 3",
   "language": "python",
   "name": "python3"
  },
  "language_info": {
   "codemirror_mode": {
    "name": "ipython",
    "version": 3
   },
   "file_extension": ".py",
   "mimetype": "text/x-python",
   "name": "python",
   "nbconvert_exporter": "python",
   "pygments_lexer": "ipython3",
   "version": "3.8.5"
  }
 },
 "nbformat": 4,
 "nbformat_minor": 4
}
