{
 "cells": [
  {
   "cell_type": "code",
   "execution_count": 28,
   "metadata": {},
   "outputs": [],
   "source": [
    "import pandas as pd\n",
    "import numpy as np\n",
    "import matplotlib.pyplot as plt"
   ]
  },
  {
   "cell_type": "code",
   "execution_count": 29,
   "metadata": {},
   "outputs": [
    {
     "name": "stdout",
     "output_type": "stream",
     "text": [
      "   Type         Name  Age  Breed1  Breed2  Gender  Color1  Color2  Color3  \\\n",
      "0     2       Nibble    3     299       0       1       1       7       0   \n",
      "1     2  No Name Yet    1     265       0       1       1       2       0   \n",
      "2     1       Brisco    1     307       0       1       2       7       0   \n",
      "3     1         Miko    4     307       0       2       1       2       0   \n",
      "4     1       Hunter    1     307       0       1       1       0       0   \n",
      "\n",
      "   MaturitySize  ...  Health  Quantity  Fee  State  \\\n",
      "0             1  ...       1         1  100  41326   \n",
      "1             2  ...       1         1    0  41401   \n",
      "2             2  ...       1         1    0  41326   \n",
      "3             2  ...       1         1  150  41401   \n",
      "4             2  ...       1         1    0  41326   \n",
      "\n",
      "                          RescuerID  VideoAmt  \\\n",
      "0  8480853f516546f6cf33aa88cd76c379         0   \n",
      "1  3082c7125d8fb66f7dd4bff4192c8b14         0   \n",
      "2  fa90fa5b1ee11c86938398b60abc32cb         0   \n",
      "3  9238e4f44c71a75282e62f7136c6b240         0   \n",
      "4  95481e953f8aed9ec3d16fc4509537e8         0   \n",
      "\n",
      "                                         Description      PetID PhotoAmt  \\\n",
      "0  Nibble is a 3+ month old ball of cuteness. He ...  86e1089a3      1.0   \n",
      "1  I just found it alone yesterday near my apartm...  6296e909a      2.0   \n",
      "2  Their pregnant mother was dumped by her irresp...  3422e4906      7.0   \n",
      "3  Good guard dog, very alert, active, obedience ...  5842f1ff5      8.0   \n",
      "4  This handsome yet cute boy is up for adoption....  850a43f90      3.0   \n",
      "\n",
      "   AdoptionSpeed  \n",
      "0              2  \n",
      "1              0  \n",
      "2              3  \n",
      "3              2  \n",
      "4              2  \n",
      "\n",
      "[5 rows x 24 columns]\n"
     ]
    }
   ],
   "source": [
    "# import train.csv\n",
    "url_train = \"https://raw.githubusercontent.com/naufaldi-fir/adoption-prediction-project/main/Data%20Set/train.csv\"\n",
    "train = pd.read_csv(url_train)\n",
    "print(train.head())"
   ]
  },
  {
   "cell_type": "code",
   "execution_count": 30,
   "metadata": {},
   "outputs": [],
   "source": [
    "# all features which type is ordinal \n",
    "ordinal = [\"Age\",\"MaturitySize\",\"FurLength\"]"
   ]
  },
  {
   "cell_type": "code",
   "execution_count": 33,
   "metadata": {},
   "outputs": [],
   "source": [
    "from sklearn.linear_model import Lasso\n",
    "from sklearn.preprocessing import StandardScaler\n",
    "\n",
    "# define predictor X and target variable y\n",
    "X = train[ordinal]\n",
    "y = train[\"AdoptionSpeed\"]\n",
    "\n",
    "#Scale all features for predictor\n",
    "scaler=StandardScaler()\n",
    "X_scaled=scaler.fit_transform(X) # X_scaled is numpy array\n",
    "X_scaled_df=pd.DataFrame(X_scaled)"
   ]
  },
  {
   "cell_type": "code",
   "execution_count": 37,
   "metadata": {},
   "outputs": [
    {
     "data": {
      "image/png": "[encoded data removed]",
      "text/plain": [
       "<Figure size 432x288 with 1 Axes>"
      ]
     },
     "metadata": {
      "needs_background": "light"
     },
     "output_type": "display_data"
    }
   ],
   "source": [
    "#building regression model with L1 regularization\n",
    "lasso = Lasso(alpha = 0.1)\n",
    "lasso_coef = lasso.fit(X_scaled_df,y).coef_\n",
    "\n",
    "plt.plot(range(len(ordinal)), lasso_coef)\n",
    "plt.xticks(range(len(ordinal)),ordinal, rotation = 60)\n",
    "plt.ylabel(\"Coefficients\")\n",
    "plt.show()"
   ]
  },
  {
   "cell_type": "code",
   "execution_count": null,
   "metadata": {},
   "outputs": [],
   "source": [
    "# Conclusion:\n",
    "# Age is a feature with meaningful impact to predict the adoption speed because its coefficient\n",
    "# reach 0.02, Fur Length has also an Impact, which is smaller and "
   ]
  }
 ],
 "metadata": {
  "kernelspec": {
   "display_name": "Python 3",
   "language": "python",
   "name": "python3"
  },
  "language_info": {
   "codemirror_mode": {
    "name": "ipython",
    "version": 3
   },
   "file_extension": ".py",
   "mimetype": "text/x-python",
   "name": "python",
   "nbconvert_exporter": "python",
   "pygments_lexer": "ipython3",
   "version": "3.8.5"
  }
 },
 "nbformat": 4,
 "nbformat_minor": 4
}
